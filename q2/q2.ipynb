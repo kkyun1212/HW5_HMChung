{
 "cells": [
  {
   "cell_type": "code",
   "execution_count": 11,
   "id": "3ca3ce6d",
   "metadata": {},
   "outputs": [
    {
     "name": "stdout",
     "output_type": "stream",
     "text": [
      "*** Annual Temperature Report for Seoul in 2022 ***\n",
      "Day with the Largest Temperature Variation: 2022-11-29\n",
      "Maximum Temperature Difference:16.6\n",
      "Day with the Smallest Temperature Variation: 2022-06-29\n",
      "Minimum Temperature Difference:1.7\n"
     ]
    }
   ],
   "source": [
    "def main():\n",
    "    import csv\n",
    "    f = open('q2.csv',encoding='ANSI')\n",
    "    data = csv.reader(f)\n",
    "    header = next(data)\n",
    "\n",
    "    max_tempv = -999\n",
    "    max_date = \"\"\n",
    "\n",
    "    min_tempv = 999\n",
    "    min_date = \"\"\n",
    "\n",
    "    for row in data:\n",
    "\n",
    "        if row[-1] == '':\n",
    "            row[-1]= 999\n",
    "        if row[-2] == '':\n",
    "            row[-2]= 999     \n",
    "        row[-2] = float(row[-2])\n",
    "        row[-1] = float(row[-1])\n",
    "\n",
    "        if row[-1]!=999:\n",
    "            if row[-2]!=999:\n",
    "                if max_tempv < row[-1]-row[-2]:\n",
    "                    max_tempv = row[-1]-row[-2]\n",
    "                    max_date = row[0]\n",
    "\n",
    "        if row[-1]!=999:\n",
    "            if row[-2]!=999:\n",
    "                if min_tempv > row[-1]-row[-2]:\n",
    "                    min_tempv = row[-1]-row[-2]\n",
    "                    min_date = row[0]\n",
    "\n",
    "\n",
    "    f.close()\n",
    "    print(\"*** Annual Temperature Report for Seoul in 2022 ***\")\n",
    "    print(\"Day with the Largest Temperature Variation:\",max_date)\n",
    "    print(\"Maximum Temperature Difference:{:.1f}\".format(max_tempv))\n",
    "    print(\"Day with the Smallest Temperature Variation:\",min_date)\n",
    "    print(\"Minimum Temperature Difference:{:.1f}\".format(min_tempv))\n",
    "    \n",
    "if __name__ == '__main__':\n",
    "    main()\n",
    "\n"
   ]
  },
  {
   "cell_type": "code",
   "execution_count": null,
   "id": "23f7909f",
   "metadata": {},
   "outputs": [],
   "source": []
  }
 ],
 "metadata": {
  "kernelspec": {
   "display_name": "Python 3 (ipykernel)",
   "language": "python",
   "name": "python3"
  },
  "language_info": {
   "codemirror_mode": {
    "name": "ipython",
    "version": 3
   },
   "file_extension": ".py",
   "mimetype": "text/x-python",
   "name": "python",
   "nbconvert_exporter": "python",
   "pygments_lexer": "ipython3",
   "version": "3.9.13"
  }
 },
 "nbformat": 4,
 "nbformat_minor": 5
}
