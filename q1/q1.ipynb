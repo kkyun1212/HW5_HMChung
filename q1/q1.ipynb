{
 "cells": [
  {
   "cell_type": "code",
   "execution_count": 26,
   "id": "f2c6ec8a",
   "metadata": {},
   "outputs": [
    {
     "name": "stdout",
     "output_type": "stream",
     "text": [
      "*** Annual Temperature Report for Seoul in 2022 ***\n",
      "Average Temperature:13.30 Celsius\n",
      "Average Minimun Temperature:36.10 Celsius\n",
      "Average Maximun Temperature:-13.70 Celsius\n"
     ]
    }
   ],
   "source": [
    "def main():\n",
    "    import csv\n",
    "    f = open('q1.csv',encoding='ANSI')\n",
    "    data = csv.reader(f)\n",
    "    header = next(data)\n",
    "\n",
    "    max_temp = -999\n",
    "\n",
    "    min_temp = 999\n",
    "\n",
    "    avg_temp= 0\n",
    "\n",
    "    n = 0\n",
    "\n",
    "    for row in data:\n",
    "    \n",
    "        if row[-3] == '':\n",
    "            row[-3]= 999\n",
    "        row[-3] = float(row[-3])\n",
    "        if row[-3]!=999:\n",
    "            avg_temp = avg_temp + row[-3]\n",
    "            n = n +1\n",
    "    \n",
    "        if row[-1] == '':\n",
    "            row[-1]= 999\n",
    "        row[-1] = float(row[-1])\n",
    "        if max_temp < row[-1]:\n",
    "            if row[-1]!=999:\n",
    "                max_temp = row[-1]\n",
    "                max_date = row[0]\n",
    "        \n",
    "        if row[-2] == '':\n",
    "            row[-2]= 999\n",
    "        row[-2] = float(row[-2])\n",
    "        if min_temp > row[-2]:\n",
    "            if row[-2]!=999:\n",
    "                min_temp = row[-2]\n",
    "                min_date = row[0]    \n",
    "    avg_temp = avg_temp/n\n",
    "    \n",
    "    f.close()\n",
    "    print(\"*** Annual Temperature Report for Seoul in 2022 ***\")\n",
    "    print(\"Average Temperature:{:.2f} Celsius\".format(avg_temp))\n",
    "    print(\"Average Minimun Temperature:{:.2f} Celsius\".format(max_temp))\n",
    "    print(\"Average Maximun Temperature:{:.2f} Celsius\".format(min_temp))\n",
    "    \n",
    "if __name__ == '__main__':\n",
    "    main()\n"
   ]
  },
  {
   "cell_type": "code",
   "execution_count": null,
   "id": "07d37fb0",
   "metadata": {},
   "outputs": [],
   "source": []
  }
 ],
 "metadata": {
  "kernelspec": {
   "display_name": "Python 3 (ipykernel)",
   "language": "python",
   "name": "python3"
  },
  "language_info": {
   "codemirror_mode": {
    "name": "ipython",
    "version": 3
   },
   "file_extension": ".py",
   "mimetype": "text/x-python",
   "name": "python",
   "nbconvert_exporter": "python",
   "pygments_lexer": "ipython3",
   "version": "3.9.13"
  }
 },
 "nbformat": 4,
 "nbformat_minor": 5
}
