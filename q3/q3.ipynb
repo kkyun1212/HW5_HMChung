{
 "cells": [
  {
   "cell_type": "code",
   "execution_count": 67,
   "id": "e025718a",
   "metadata": {},
   "outputs": [
    {
     "name": "stdout",
     "output_type": "stream",
     "text": [
      "**** Subway Report for Seoul on March 2023 ***\n",
      "1st busiest Line:Line 2 ( 85620512 )\n",
      "2nd busiest Line:Line 5 ( 39671990 )\n",
      "1st Least used Line:Line 8 ( 11863928 )\n",
      "2st Least used Line:Line 1 ( 14705833 )\n"
     ]
    }
   ],
   "source": [
    "def main():\n",
    "    import csv\n",
    "    f = open('q3.csv',encoding='UTF-8')\n",
    "    data = csv.reader(f)\n",
    "    header = next(data)\n",
    "    \n",
    "    line1=0\n",
    "    line2=0\n",
    "    line3=0\n",
    "    line4=0\n",
    "    line5=0\n",
    "    line6=0\n",
    "    line7=0\n",
    "    line8=0\n",
    "    line9=0\n",
    "\n",
    "    for row in data:\n",
    "    \n",
    "        row[-2] = float(row[-2])\n",
    "        row[-3] = float(row[-3])\n",
    "        \n",
    "        if row[1]==\"1호선\":\n",
    "            line1 = line1 + row[-2] +row[-3]\n",
    "        if row[1]==\"2호선\":\n",
    "            line2 = line2 + row[-2] +row[-3]\n",
    "        if row[1]==\"3호선\":\n",
    "            line3 = line3 + row[-2] +row[-3]\n",
    "        if row[1]==\"4호선\":\n",
    "            line4 = line4 + row[-2] +row[-3]\n",
    "        if row[1]==\"5호선\":\n",
    "            line5 = line5 + row[-2] +row[-3]\n",
    "        if row[1]==\"6호선\":\n",
    "            line6 = line6 + row[-2] +row[-3]\n",
    "        if row[1]==\"7호선\":\n",
    "            line7 = line7 + row[-2] +row[-3]\n",
    "        if row[1]==\"8호선\":\n",
    "            line8 = line8 + row[-2] +row[-3]\n",
    "        if row[1]==\"9호선\":\n",
    "            line9 = line9 + row[-2] +row[-3]      \n",
    "    f.close()\n",
    "    arr={line1:1,line2:2,line3:3,line4:4,line5:5,line6:6,line7:7,line8:8,line9:9}\n",
    "    sarr = sorted(arr.items())\n",
    "    \n",
    "    print(\"**** Subway Report for Seoul on March 2023 ***\")\n",
    "    print(\"1st busiest Line:Line\",(sarr[8])[1],\"(\",round((sarr[8])[0]),\")\")\n",
    "    print(\"2nd busiest Line:Line\",(sarr[7])[1],\"(\",round((sarr[7])[0]),\")\")\n",
    "    print(\"1st Least used Line:Line\",(sarr[0])[1],\"(\",round((sarr[0])[0]),\")\")\n",
    "    print(\"2st Least used Line:Line\",(sarr[1])[1],\"(\",round((sarr[1])[0]),\")\")\n",
    "\n",
    "if __name__ == '__main__':\n",
    "    main()\n"
   ]
  },
  {
   "cell_type": "code",
   "execution_count": null,
   "id": "9842abff",
   "metadata": {},
   "outputs": [],
   "source": []
  },
  {
   "cell_type": "code",
   "execution_count": null,
   "id": "49ba640a",
   "metadata": {},
   "outputs": [],
   "source": []
  }
 ],
 "metadata": {
  "kernelspec": {
   "display_name": "Python 3 (ipykernel)",
   "language": "python",
   "name": "python3"
  },
  "language_info": {
   "codemirror_mode": {
    "name": "ipython",
    "version": 3
   },
   "file_extension": ".py",
   "mimetype": "text/x-python",
   "name": "python",
   "nbconvert_exporter": "python",
   "pygments_lexer": "ipython3",
   "version": "3.9.13"
  }
 },
 "nbformat": 4,
 "nbformat_minor": 5
}
